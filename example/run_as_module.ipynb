{
 "cells": [
  {
   "cell_type": "markdown",
   "metadata": {},
   "source": [
    "# Running ArtiCull as a module\n",
    "\n",
    "This notebook demonstrates how to run ArtiCull as a python module on a sample MAF file and BAM file.\n",
    "It includes:\n",
    "\n",
    "1. downloading necessary resources (which only needs to be done the first time running ArtiCull)\n",
    "2. initializing articull\n",
    "3. extracting features\n",
    "4. classifying variants\n",
    "\n",
    "Before starting, ensure that \n",
    "\n",
    "1. You've set up an environment that includes all dependencies (see documentation)\n",
    "2. The articull module is findable in your python path"
   ]
  },
  {
   "cell_type": "markdown",
   "metadata": {},
   "source": [
    "## ArtiCull Setup\n",
    "\n",
    "This step may take a few minutes. However, this only needs to be done **the first time** articull is run. If the files already exist, download will be skipped automaticaly. \n",
    "\n",
    "Please note that this downloads ~1Gb of data and expands to ~5Gb when uncompressed."
   ]
  },
  {
   "cell_type": "code",
   "execution_count": 7,
   "metadata": {},
   "outputs": [
    {
     "name": "stdout",
     "output_type": "stream",
     "text": [
      "Mappability files already exist in ../resources. Skipping download and setup. Use parameter force=True to force re-download if files are incomplete or corrupted.\n"
     ]
    }
   ],
   "source": [
    "from articull import download_resources\n",
    "resources_dir=\"../resources\"\n",
    "download_resources(resources_dir)"
   ]
  },
  {
   "cell_type": "markdown",
   "metadata": {},
   "source": [
    "# Input Files"
   ]
  },
  {
   "cell_type": "code",
   "execution_count": 8,
   "metadata": {},
   "outputs": [],
   "source": [
    "maf = 'example.maf'\n",
    "bams = ['example.bam']\n",
    "output_prefix = './example'\n",
    "model_dir = \"../models/preprint_model/\""
   ]
  },
  {
   "cell_type": "markdown",
   "metadata": {},
   "source": [
    "# Run ArtiCull"
   ]
  },
  {
   "cell_type": "code",
   "execution_count": 9,
   "metadata": {},
   "outputs": [
    {
     "name": "stdout",
     "output_type": "stream",
     "text": [
      "INFO: Pandarallel will run on 4 workers.\n",
      "INFO: Pandarallel will use Memory file system to transfer data between the main process and workers.\n"
     ]
    }
   ],
   "source": [
    "from articull import setup as articull_setup, classify_variants, extract_features\n",
    "\n",
    "number_cores = 4\n",
    "progress_bar = True # Display dynamic progress bar\n",
    "articull_setup(number_cores, progress_bar)"
   ]
  },
  {
   "cell_type": "code",
   "execution_count": 10,
   "metadata": {},
   "outputs": [
    {
     "name": "stdout",
     "output_type": "stream",
     "text": [
      "1. Reading Variants from: example.maf\n",
      "\n",
      "2. Extracting Read Features from: ['example.bam']\n"
     ]
    },
    {
     "data": {
      "application/vnd.jupyter.widget-view+json": {
       "model_id": "95852adad765441c929f19b4a73c16cb",
       "version_major": 2,
       "version_minor": 0
      },
      "text/plain": [
       "VBox(children=(HBox(children=(IntProgress(value=0, description='0.00%', max=25), Label(value='0 / 25'))), HBox…"
      ]
     },
     "metadata": {},
     "output_type": "display_data"
    },
    {
     "name": "stderr",
     "output_type": "stream",
     "text": [
      "/home/satasg/miniconda3/envs/articull-env3/lib/python3.11/site-packages/numpy/core/_methods.py:206: RuntimeWarning: Degrees of freedom <= 0 for slice\n",
      "  ret = _var(a, axis=axis, dtype=dtype, out=out, ddof=ddof,\n",
      "/home/satasg/miniconda3/envs/articull-env3/lib/python3.11/site-packages/numpy/core/_methods.py:163: RuntimeWarning: invalid value encountered in divide\n",
      "  arrmean = um.true_divide(arrmean, div, out=arrmean,\n",
      "/home/satasg/miniconda3/envs/articull-env3/lib/python3.11/site-packages/numpy/core/_methods.py:198: RuntimeWarning: invalid value encountered in scalar divide\n",
      "  ret = ret.dtype.type(ret / rcount)\n",
      "/home/satasg/miniconda3/envs/articull-env3/lib/python3.11/site-packages/numpy/core/_methods.py:206: RuntimeWarning: Degrees of freedom <= 0 for slice\n",
      "  ret = _var(a, axis=axis, dtype=dtype, out=out, ddof=ddof,\n",
      "/home/satasg/miniconda3/envs/articull-env3/lib/python3.11/site-packages/numpy/core/_methods.py:198: RuntimeWarning: invalid value encountered in scalar divide\n",
      "  ret = ret.dtype.type(ret / rcount)\n"
     ]
    },
    {
     "name": "stdout",
     "output_type": "stream",
     "text": [
      "\n",
      "3. Extracting Mappability from: ../resources/mappability\n",
      "\n"
     ]
    },
    {
     "data": {
      "application/vnd.jupyter.widget-view+json": {
       "model_id": "d47e89d9cd1e4d419f06d40465c87bc8",
       "version_major": 2,
       "version_minor": 0
      },
      "text/plain": [
       "VBox(children=(HBox(children=(IntProgress(value=0, description='0.00%', max=1), Label(value='0 / 1'))),))"
      ]
     },
     "metadata": {},
     "output_type": "display_data"
    },
    {
     "name": "stdout",
     "output_type": "stream",
     "text": [
      "4. Outputting Features to: ./example_features.tsv\n",
      "\n"
     ]
    }
   ],
   "source": [
    "feature_file = extract_features(maf, bams, resources_dir, output_prefix)"
   ]
  },
  {
   "cell_type": "code",
   "execution_count": 11,
   "metadata": {},
   "outputs": [
    {
     "name": "stdout",
     "output_type": "stream",
     "text": [
      "1. Loading model from: ../models/preprint_model/\n",
      "2. Classifying data from: ./example_features.tsv\n",
      "\t0/100 variants completed"
     ]
    },
    {
     "name": "stdout",
     "output_type": "stream",
     "text": [
      "\t100/100 variants completed"
     ]
    }
   ],
   "source": [
    "result_file = classify_variants(model_dir, feature_file, output_prefix)"
   ]
  },
  {
   "cell_type": "code",
   "execution_count": 12,
   "metadata": {},
   "outputs": [
    {
     "data": {
      "application/vnd.microsoft.datawrangler.viewer.v0+json": {
       "columns": [
        {
         "name": "chrm",
         "rawType": "int64",
         "type": "integer"
        },
        {
         "name": "pos",
         "rawType": "int64",
         "type": "integer"
        },
        {
         "name": "ref_allele",
         "rawType": "object",
         "type": "string"
        },
        {
         "name": "alt_allele",
         "rawType": "object",
         "type": "string"
        },
        {
         "name": "result",
         "rawType": "object",
         "type": "string"
        },
        {
         "name": "prob_artifact",
         "rawType": "float64",
         "type": "float"
        }
       ],
       "conversionMethod": "pd.DataFrame",
       "ref": "cc0540c1-d84a-4b45-9e62-d2792031341e",
       "rows": [
        [
         "1",
         "201206823",
         "G",
         "A",
         "ARTIFACT",
         "0.9729175263160108"
        ],
        [
         "1",
         "201209319",
         "T",
         "C",
         "ARTIFACT",
         "0.9906226930376882"
        ],
        [
         "1",
         "201226655",
         "T",
         "C",
         "SKIP",
         null
        ],
        [
         "1",
         "201441989",
         "G",
         "C",
         "PASS",
         "0.0178386732574736"
        ],
        [
         "1",
         "201942192",
         "C",
         "G",
         "PASS",
         "0.4804285937321155"
        ],
        [
         "1",
         "202014316",
         "G",
         "A",
         "ARTIFACT",
         "0.9894647097138682"
        ],
        [
         "1",
         "203844089",
         "G",
         "T",
         "ARTIFACT",
         "0.997579372392404"
        ],
        [
         "1",
         "203994039",
         "C",
         "A",
         "PASS",
         "0.010787972996598"
        ],
        [
         "1",
         "204180707",
         "T",
         "A",
         "ARTIFACT",
         "0.5259845273535331"
        ],
        [
         "1",
         "204604369",
         "G",
         "C",
         "PASS",
         "0.018254634525863"
        ],
        [
         "1",
         "205172842",
         "C",
         "T",
         "ARTIFACT",
         "0.9983898968333412"
        ],
        [
         "1",
         "205314219",
         "G",
         "T",
         "PASS",
         "0.0054096211725194"
        ],
        [
         "1",
         "205856582",
         "A",
         "T",
         "ARTIFACT",
         "0.977496741920462"
        ],
        [
         "1",
         "205856585",
         "C",
         "T",
         "ARTIFACT",
         "0.977496741920462"
        ],
        [
         "1",
         "206089074",
         "A",
         "G",
         "ARTIFACT",
         "0.8492625503737659"
        ],
        [
         "1",
         "206158071",
         "C",
         "T",
         "ARTIFACT",
         "0.8851276838539404"
        ],
        [
         "1",
         "206167401",
         "A",
         "G",
         "ARTIFACT",
         "0.5640389650527731"
        ],
        [
         "1",
         "206484256",
         "C",
         "T",
         "ARTIFACT",
         "0.6539460427248311"
        ],
        [
         "1",
         "206486109",
         "C",
         "T",
         "ARTIFACT",
         "0.916026466960944"
        ],
        [
         "1",
         "206496655",
         "A",
         "C",
         "ARTIFACT",
         "0.9077276625040896"
        ],
        [
         "1",
         "206564382",
         "G",
         "A",
         "ARTIFACT",
         "0.8073517161647414"
        ],
        [
         "1",
         "207068117",
         "G",
         "T",
         "ARTIFACT",
         "0.9893161828330144"
        ],
        [
         "1",
         "207289863",
         "G",
         "A",
         "PASS",
         "0.1537162028572736"
        ],
        [
         "1",
         "207405589",
         "G",
         "C",
         "ARTIFACT",
         "0.9990105218380788"
        ],
        [
         "1",
         "207405594",
         "G",
         "A",
         "ARTIFACT",
         "0.9990664123266938"
        ],
        [
         "1",
         "207581567",
         "G",
         "T",
         "ARTIFACT",
         "0.9637837511718136"
        ],
        [
         "1",
         "207767594",
         "T",
         "C",
         "ARTIFACT",
         "0.9986743425625184"
        ],
        [
         "1",
         "207767601",
         "T",
         "C",
         "ARTIFACT",
         "0.9988642458020331"
        ],
        [
         "1",
         "207906993",
         "C",
         "T",
         "ARTIFACT",
         "0.9384722602531343"
        ],
        [
         "1",
         "207907000",
         "A",
         "G",
         "ARTIFACT",
         "0.933462826873712"
        ],
        [
         "1",
         "208878515",
         "A",
         "G",
         "ARTIFACT",
         "0.9920810528879168"
        ],
        [
         "1",
         "209039732",
         "A",
         "G",
         "ARTIFACT",
         "0.636812493950514"
        ],
        [
         "1",
         "209761930",
         "A",
         "G",
         "ARTIFACT",
         "0.9470576306308331"
        ],
        [
         "1",
         "210163575",
         "G",
         "T",
         "PASS",
         "0.3424440997763717"
        ],
        [
         "1",
         "210248814",
         "G",
         "A",
         "ARTIFACT",
         "0.9950188050662516"
        ],
        [
         "1",
         "210382301",
         "G",
         "T",
         "ARTIFACT",
         "0.9866513833928342"
        ],
        [
         "1",
         "210597180",
         "A",
         "C",
         "PASS",
         "0.3725765713989637"
        ],
        [
         "1",
         "211626823",
         "C",
         "G",
         "ARTIFACT",
         "0.9964624288261172"
        ],
        [
         "1",
         "211626844",
         "T",
         "A",
         "ARTIFACT",
         "0.9984969293898268"
        ],
        [
         "1",
         "212903956",
         "G",
         "T",
         "ARTIFACT",
         "0.9821792682169028"
        ],
        [
         "1",
         "212974004",
         "T",
         "C",
         "PASS",
         "0.0224252107364503"
        ],
        [
         "1",
         "213389792",
         "T",
         "C",
         "ARTIFACT",
         "0.9913776203317408"
        ],
        [
         "1",
         "213389864",
         "C",
         "G",
         "ARTIFACT",
         "0.9829601552237728"
        ],
        [
         "1",
         "213389890",
         "C",
         "A",
         "ARTIFACT",
         "0.9664409496164088"
        ],
        [
         "1",
         "213390294",
         "A",
         "G",
         "ARTIFACT",
         "0.9861367055172428"
        ],
        [
         "1",
         "213810053",
         "A",
         "G",
         "ARTIFACT",
         "0.9974084497004112"
        ],
        [
         "1",
         "214235899",
         "G",
         "T",
         "ARTIFACT",
         "0.9031192583657024"
        ],
        [
         "1",
         "214289037",
         "G",
         "T",
         "ARTIFACT",
         "0.8257103485453927"
        ],
        [
         "1",
         "214656762",
         "T",
         "G",
         "ARTIFACT",
         "0.9498933534593664"
        ],
        [
         "1",
         "214781988",
         "A",
         "T",
         "ARTIFACT",
         "0.9977245863540588"
        ]
       ],
       "shape": {
        "columns": 5,
        "rows": 100
       }
      },
      "text/html": [
       "<div>\n",
       "<style scoped>\n",
       "    .dataframe tbody tr th:only-of-type {\n",
       "        vertical-align: middle;\n",
       "    }\n",
       "\n",
       "    .dataframe tbody tr th {\n",
       "        vertical-align: top;\n",
       "    }\n",
       "\n",
       "    .dataframe thead th {\n",
       "        text-align: right;\n",
       "    }\n",
       "</style>\n",
       "<table border=\"1\" class=\"dataframe\">\n",
       "  <thead>\n",
       "    <tr style=\"text-align: right;\">\n",
       "      <th></th>\n",
       "      <th>pos</th>\n",
       "      <th>ref_allele</th>\n",
       "      <th>alt_allele</th>\n",
       "      <th>result</th>\n",
       "      <th>prob_artifact</th>\n",
       "    </tr>\n",
       "    <tr>\n",
       "      <th>chrm</th>\n",
       "      <th></th>\n",
       "      <th></th>\n",
       "      <th></th>\n",
       "      <th></th>\n",
       "      <th></th>\n",
       "    </tr>\n",
       "  </thead>\n",
       "  <tbody>\n",
       "    <tr>\n",
       "      <th>1</th>\n",
       "      <td>201206823</td>\n",
       "      <td>G</td>\n",
       "      <td>A</td>\n",
       "      <td>ARTIFACT</td>\n",
       "      <td>0.972918</td>\n",
       "    </tr>\n",
       "    <tr>\n",
       "      <th>1</th>\n",
       "      <td>201209319</td>\n",
       "      <td>T</td>\n",
       "      <td>C</td>\n",
       "      <td>ARTIFACT</td>\n",
       "      <td>0.990623</td>\n",
       "    </tr>\n",
       "    <tr>\n",
       "      <th>1</th>\n",
       "      <td>201226655</td>\n",
       "      <td>T</td>\n",
       "      <td>C</td>\n",
       "      <td>SKIP</td>\n",
       "      <td>NaN</td>\n",
       "    </tr>\n",
       "    <tr>\n",
       "      <th>1</th>\n",
       "      <td>201441989</td>\n",
       "      <td>G</td>\n",
       "      <td>C</td>\n",
       "      <td>PASS</td>\n",
       "      <td>0.017839</td>\n",
       "    </tr>\n",
       "    <tr>\n",
       "      <th>1</th>\n",
       "      <td>201942192</td>\n",
       "      <td>C</td>\n",
       "      <td>G</td>\n",
       "      <td>PASS</td>\n",
       "      <td>0.480429</td>\n",
       "    </tr>\n",
       "    <tr>\n",
       "      <th>...</th>\n",
       "      <td>...</td>\n",
       "      <td>...</td>\n",
       "      <td>...</td>\n",
       "      <td>...</td>\n",
       "      <td>...</td>\n",
       "    </tr>\n",
       "    <tr>\n",
       "      <th>1</th>\n",
       "      <td>229973065</td>\n",
       "      <td>G</td>\n",
       "      <td>T</td>\n",
       "      <td>ARTIFACT</td>\n",
       "      <td>0.997773</td>\n",
       "    </tr>\n",
       "    <tr>\n",
       "      <th>1</th>\n",
       "      <td>230310247</td>\n",
       "      <td>A</td>\n",
       "      <td>C</td>\n",
       "      <td>PASS</td>\n",
       "      <td>0.012242</td>\n",
       "    </tr>\n",
       "    <tr>\n",
       "      <th>1</th>\n",
       "      <td>230686908</td>\n",
       "      <td>T</td>\n",
       "      <td>G</td>\n",
       "      <td>ARTIFACT</td>\n",
       "      <td>0.601840</td>\n",
       "    </tr>\n",
       "    <tr>\n",
       "      <th>1</th>\n",
       "      <td>230751707</td>\n",
       "      <td>C</td>\n",
       "      <td>T</td>\n",
       "      <td>ARTIFACT</td>\n",
       "      <td>0.553438</td>\n",
       "    </tr>\n",
       "    <tr>\n",
       "      <th>1</th>\n",
       "      <td>230982660</td>\n",
       "      <td>T</td>\n",
       "      <td>A</td>\n",
       "      <td>ARTIFACT</td>\n",
       "      <td>0.990913</td>\n",
       "    </tr>\n",
       "  </tbody>\n",
       "</table>\n",
       "<p>100 rows × 5 columns</p>\n",
       "</div>"
      ],
      "text/plain": [
       "            pos ref_allele alt_allele    result  prob_artifact\n",
       "chrm                                                          \n",
       "1     201206823          G          A  ARTIFACT       0.972918\n",
       "1     201209319          T          C  ARTIFACT       0.990623\n",
       "1     201226655          T          C      SKIP            NaN\n",
       "1     201441989          G          C      PASS       0.017839\n",
       "1     201942192          C          G      PASS       0.480429\n",
       "...         ...        ...        ...       ...            ...\n",
       "1     229973065          G          T  ARTIFACT       0.997773\n",
       "1     230310247          A          C      PASS       0.012242\n",
       "1     230686908          T          G  ARTIFACT       0.601840\n",
       "1     230751707          C          T  ARTIFACT       0.553438\n",
       "1     230982660          T          A  ARTIFACT       0.990913\n",
       "\n",
       "[100 rows x 5 columns]"
      ]
     },
     "execution_count": 12,
     "metadata": {},
     "output_type": "execute_result"
    }
   ],
   "source": [
    "import pandas as pd\n",
    "df = pd.read_table(result_file, sep='\\t', header=0, index_col=0)\n",
    "df"
   ]
  }
 ],
 "metadata": {
  "kernelspec": {
   "display_name": "articull-env3",
   "language": "python",
   "name": "python3"
  },
  "language_info": {
   "codemirror_mode": {
    "name": "ipython",
    "version": 3
   },
   "file_extension": ".py",
   "mimetype": "text/x-python",
   "name": "python",
   "nbconvert_exporter": "python",
   "pygments_lexer": "ipython3",
   "version": "3.11.11"
  }
 },
 "nbformat": 4,
 "nbformat_minor": 2
}
